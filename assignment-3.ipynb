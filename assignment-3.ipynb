{
 "cells": [
  {
   "cell_type": "code",
   "execution_count": 1,
   "metadata": {
    "_cell_guid": "b1076dfc-b9ad-4769-8c92-a6c4dae69d19",
    "_uuid": "8f2839f25d086af736a60e9eeb907d3b93b6e0e5"
   },
   "outputs": [
    {
     "name": "stderr",
     "output_type": "stream",
     "text": [
      "Using TensorFlow backend.\n"
     ]
    }
   ],
   "source": [
    "import tensorflow as tf\n",
    "import numpy as np\n",
    "import matplotlib.pyplot as plt\n",
    "import numpy as np\n",
    "import cv2\n",
    "import os\n",
    "from keras.models import Sequential\n",
    "from keras.layers.convolutional import Conv2D, MaxPooling2D, AveragePooling2D\n",
    "from keras.layers import Input, Flatten, Dense, Dropout, Activation\n",
    "import keras\n",
    "from keras.models import Model, Sequential\n",
    "from keras.optimizers import RMSprop\n",
    "from keras.regularizers import l2\n",
    "from tqdm import tqdm_notebook as tqdm \n",
    "\n",
    "os.environ['CUDA_VISIBLE_DEVICES'] = '0'"
   ]
  },
  {
   "cell_type": "code",
   "execution_count": 2,
   "metadata": {
    "_cell_guid": "79c7e3d0-c299-4dcb-8224-4455121ee9b0",
    "_uuid": "d629ff2d2480ee46fbb7e2d37f6b5fab8052498a"
   },
   "outputs": [],
   "source": [
    "dim = 64\n",
    "num_classes = 15\n",
    "maxepoches = 30\n",
    "batch_size = 50\n",
    "\n",
    "DATASET_PATH = '../input/15-scene/15-Scene'\n",
    "one_hot_lookup = np.eye(num_classes)\n",
    "dataset_x = []\n",
    "dataset_y = []\n",
    "for category in sorted(os.listdir(DATASET_PATH)):\n",
    "    for fname in os.listdir(DATASET_PATH+\"/\"+category):\n",
    "        img = cv2.imread(DATASET_PATH+\"/\"+category+'/'+fname, 2)\n",
    "        img = cv2.resize(img, (dim,dim))\n",
    "        dataset_x.append(np.reshape(img, [dim,dim,1]))\n",
    "        dataset_y.append(np.reshape(one_hot_lookup[int(category)], [num_classes]))\n",
    "\n",
    "dataset_x = np.array(dataset_x)\n",
    "dataset_y = np.array(dataset_y)\n",
    "\n",
    "\"\"\"shuffle dataset\"\"\"\n",
    "p = np.random.permutation(len(dataset_x))\n",
    "dataset_x = dataset_x[p]\n",
    "dataset_y = dataset_y[p]\n",
    "        \n",
    "test_x = dataset_x[:int(len(dataset_x)/10)]\n",
    "test_y = dataset_y[:int(len(dataset_x)/10)]\n",
    "train_x = dataset_x[int(len(dataset_x)/10):]\n",
    "train_y = dataset_y[int(len(dataset_x)/10):]\n",
    "\n",
    "train_y2 = keras.utils.to_categorical(train_y).astype('float32')\n",
    "test_y2 = keras.utils.to_categorical(test_y).astype('float32')"
   ]
  },
  {
   "cell_type": "code",
   "execution_count": 3,
   "metadata": {},
   "outputs": [
    {
     "name": "stdout",
     "output_type": "stream",
     "text": [
      "(4037, 64, 64, 1)\n",
      "(4037, 15)\n",
      "(448, 64, 64, 1)\n",
      "(448, 15)\n"
     ]
    }
   ],
   "source": [
    "print(train_x.shape)\n",
    "print(train_y.shape)\n",
    "print(test_x.shape)\n",
    "print(test_y.shape)"
   ]
  },
  {
   "cell_type": "code",
   "execution_count": 4,
   "metadata": {},
   "outputs": [
    {
     "name": "stdout",
     "output_type": "stream",
     "text": [
      "WARNING:tensorflow:From /opt/conda/lib/python3.6/site-packages/tensorflow/python/framework/op_def_library.py:263: colocate_with (from tensorflow.python.framework.ops) is deprecated and will be removed in a future version.\n",
      "Instructions for updating:\n",
      "Colocations handled automatically by placer.\n",
      "WARNING:tensorflow:From /opt/conda/lib/python3.6/site-packages/keras/backend/tensorflow_backend.py:3445: calling dropout (from tensorflow.python.ops.nn_ops) with keep_prob is deprecated and will be removed in a future version.\n",
      "Instructions for updating:\n",
      "Please use `rate` instead of `keep_prob`. Rate should be set to `rate = 1 - keep_prob`.\n",
      "_________________________________________________________________\n",
      "Layer (type)                 Output Shape              Param #   \n",
      "=================================================================\n",
      "input_1 (InputLayer)         (None, 64, 64, 1)         0         \n",
      "_________________________________________________________________\n",
      "block1_conv1 (Conv2D)        (None, 64, 64, 64)        640       \n",
      "_________________________________________________________________\n",
      "block1_conv2 (Conv2D)        (None, 64, 64, 64)        36928     \n",
      "_________________________________________________________________\n",
      "block1_pool (MaxPooling2D)   (None, 31, 31, 64)        0         \n",
      "_________________________________________________________________\n",
      "block2_conv1 (Conv2D)        (None, 31, 31, 128)       73856     \n",
      "_________________________________________________________________\n",
      "block2_conv2 (Conv2D)        (None, 31, 31, 128)       147584    \n",
      "_________________________________________________________________\n",
      "block2_pool (MaxPooling2D)   (None, 15, 15, 128)       0         \n",
      "_________________________________________________________________\n",
      "block3_conv1 (Conv2D)        (None, 15, 15, 256)       295168    \n",
      "_________________________________________________________________\n",
      "block3_conv2 (Conv2D)        (None, 15, 15, 256)       590080    \n",
      "_________________________________________________________________\n",
      "block3_conv3 (Conv2D)        (None, 15, 15, 256)       590080    \n",
      "_________________________________________________________________\n",
      "block3_pool (MaxPooling2D)   (None, 7, 7, 256)         0         \n",
      "_________________________________________________________________\n",
      "flatten (Flatten)            (None, 12544)             0         \n",
      "_________________________________________________________________\n",
      "dense_1 (Dense)              (None, 1024)              12846080  \n",
      "_________________________________________________________________\n",
      "dropout_1 (Dropout)          (None, 1024)              0         \n",
      "_________________________________________________________________\n",
      "dense_2 (Dense)              (None, 1024)              1049600   \n",
      "_________________________________________________________________\n",
      "dropout_2 (Dropout)          (None, 1024)              0         \n",
      "_________________________________________________________________\n",
      "dense_3 (Dense)              (None, 15)                15375     \n",
      "=================================================================\n",
      "Total params: 15,645,391\n",
      "Trainable params: 15,645,391\n",
      "Non-trainable params: 0\n",
      "_________________________________________________________________\n"
     ]
    }
   ],
   "source": [
    "img_input = Input(shape = train_x.shape[1:]) \n",
    "\n",
    "model1 = Conv2D(64, (3, 3), activation='relu', padding='same', name='block1_conv1')(img_input)\n",
    "model1 = Conv2D(64, (3, 3), activation='relu', padding='same', name='block1_conv2')(model1)\n",
    "model1 = MaxPooling2D((3, 3), strides=(2, 2), name='block1_pool')(model1)\n",
    "\n",
    "# Block 2\n",
    "model1 = Conv2D(128, (3, 3), activation='relu', padding='same', name='block2_conv1')(model1)\n",
    "model1 = Conv2D(128, (3, 3), activation='relu', padding='same', name='block2_conv2')(model1)\n",
    "model1 = MaxPooling2D((3, 3), strides=(2, 2), name='block2_pool')(model1)\n",
    "\n",
    "# Block 3\n",
    "model1 = Conv2D(256, (3, 3), activation='relu', padding='same', name='block3_conv1')(model1)\n",
    "model1 = Conv2D(256, (3, 3), activation='relu', padding='same', name='block3_conv2')(model1)\n",
    "model1 = Conv2D(256, (3, 3), activation='relu', padding='same', name='block3_conv3')(model1)\n",
    "model1 = MaxPooling2D((3, 3), strides=(2, 2), name='block3_pool')(model1)\n",
    "\n",
    "# Top layers\n",
    "model1 = Flatten(name='flatten')(model1)\n",
    "model1 = Dense(1024, activation='relu')(model1)\n",
    "model1 = Dropout(0.5)(model1)\n",
    "model1 = Dense(1024, activation='relu')(model1)\n",
    "model1 = Dropout(0.5)(model1)\n",
    "model1 = Dense(num_classes, activation='softmax')(model1)\n",
    "\n",
    "model = Model(img_input, model1)\n",
    "model.summary()"
   ]
  },
  {
   "cell_type": "code",
   "execution_count": 5,
   "metadata": {},
   "outputs": [
    {
     "name": "stdout",
     "output_type": "stream",
     "text": [
      "WARNING:tensorflow:From /opt/conda/lib/python3.6/site-packages/tensorflow/python/ops/math_ops.py:3066: to_int32 (from tensorflow.python.ops.math_ops) is deprecated and will be removed in a future version.\n",
      "Instructions for updating:\n",
      "Use tf.cast instead.\n",
      "Train on 4037 samples, validate on 448 samples\n",
      "Epoch 1/30\n",
      "4037/4037 [==============================] - 6s 2ms/step - loss: 3.2944 - acc: 0.0822 - val_loss: 2.7017 - val_acc: 0.0848\n",
      "Epoch 2/30\n",
      "4037/4037 [==============================] - 2s 565us/step - loss: 2.6898 - acc: 0.0946 - val_loss: 2.6229 - val_acc: 0.1205\n",
      "Epoch 3/30\n",
      "4037/4037 [==============================] - 2s 565us/step - loss: 2.5180 - acc: 0.1605 - val_loss: 3.0084 - val_acc: 0.0848\n",
      "Epoch 4/30\n",
      "4037/4037 [==============================] - 2s 563us/step - loss: 2.3989 - acc: 0.1997 - val_loss: 2.3561 - val_acc: 0.2344\n",
      "Epoch 5/30\n",
      "4037/4037 [==============================] - 2s 566us/step - loss: 2.0678 - acc: 0.2995 - val_loss: 1.8029 - val_acc: 0.3929\n",
      "Epoch 6/30\n",
      "4037/4037 [==============================] - 2s 565us/step - loss: 1.7892 - acc: 0.3887 - val_loss: 1.7058 - val_acc: 0.3906\n",
      "Epoch 7/30\n",
      "4037/4037 [==============================] - 2s 564us/step - loss: 1.6223 - acc: 0.4474 - val_loss: 1.3469 - val_acc: 0.5313\n",
      "Epoch 8/30\n",
      "4037/4037 [==============================] - 2s 564us/step - loss: 1.4021 - acc: 0.5217 - val_loss: 1.4764 - val_acc: 0.4866\n",
      "Epoch 9/30\n",
      "4037/4037 [==============================] - 2s 563us/step - loss: 1.3044 - acc: 0.5521 - val_loss: 1.2712 - val_acc: 0.5536\n",
      "Epoch 10/30\n",
      "4037/4037 [==============================] - 2s 564us/step - loss: 1.0961 - acc: 0.6245 - val_loss: 1.1666 - val_acc: 0.6094\n",
      "Epoch 11/30\n",
      "4037/4037 [==============================] - 2s 566us/step - loss: 0.9327 - acc: 0.6775 - val_loss: 1.3167 - val_acc: 0.5714\n",
      "Epoch 12/30\n",
      "4037/4037 [==============================] - 2s 565us/step - loss: 0.8355 - acc: 0.7171 - val_loss: 1.1548 - val_acc: 0.6451\n",
      "Epoch 13/30\n",
      "4037/4037 [==============================] - 2s 563us/step - loss: 0.6828 - acc: 0.7689 - val_loss: 1.2793 - val_acc: 0.6071\n",
      "Epoch 14/30\n",
      "4037/4037 [==============================] - 2s 563us/step - loss: 0.6369 - acc: 0.7763 - val_loss: 1.1930 - val_acc: 0.6384\n",
      "Epoch 15/30\n",
      "4037/4037 [==============================] - 2s 564us/step - loss: 0.4834 - acc: 0.8328 - val_loss: 1.4077 - val_acc: 0.6496\n",
      "Epoch 16/30\n",
      "4037/4037 [==============================] - 2s 563us/step - loss: 0.4213 - acc: 0.8623 - val_loss: 1.3250 - val_acc: 0.6518\n",
      "Epoch 17/30\n",
      "4037/4037 [==============================] - 2s 563us/step - loss: 0.3633 - acc: 0.8764 - val_loss: 1.5874 - val_acc: 0.6406\n",
      "Epoch 18/30\n",
      "4037/4037 [==============================] - 2s 564us/step - loss: 0.3537 - acc: 0.8858 - val_loss: 1.4864 - val_acc: 0.6161\n",
      "Epoch 19/30\n",
      "4037/4037 [==============================] - 2s 564us/step - loss: 0.2701 - acc: 0.9106 - val_loss: 1.6380 - val_acc: 0.6317\n",
      "Epoch 20/30\n",
      "4037/4037 [==============================] - 2s 563us/step - loss: 0.2579 - acc: 0.9153 - val_loss: 2.0478 - val_acc: 0.6049\n",
      "Epoch 21/30\n",
      "4037/4037 [==============================] - 2s 565us/step - loss: 0.3068 - acc: 0.9007 - val_loss: 1.7934 - val_acc: 0.6295\n",
      "Epoch 22/30\n",
      "4037/4037 [==============================] - 2s 563us/step - loss: 0.1630 - acc: 0.9445 - val_loss: 1.8835 - val_acc: 0.6496\n",
      "Epoch 23/30\n",
      "4037/4037 [==============================] - 2s 564us/step - loss: 0.1346 - acc: 0.9539 - val_loss: 2.1914 - val_acc: 0.6138\n",
      "Epoch 24/30\n",
      "4037/4037 [==============================] - 2s 564us/step - loss: 0.1356 - acc: 0.9557 - val_loss: 2.2739 - val_acc: 0.6205\n",
      "Epoch 25/30\n",
      "4037/4037 [==============================] - 2s 564us/step - loss: 0.1650 - acc: 0.9497 - val_loss: 2.1184 - val_acc: 0.6250\n",
      "Epoch 26/30\n",
      "4037/4037 [==============================] - 2s 563us/step - loss: 0.2361 - acc: 0.9282 - val_loss: 1.7557 - val_acc: 0.6362\n",
      "Epoch 27/30\n",
      "4037/4037 [==============================] - 2s 566us/step - loss: 0.1518 - acc: 0.9517 - val_loss: 2.0446 - val_acc: 0.6183\n",
      "Epoch 28/30\n",
      "4037/4037 [==============================] - 2s 564us/step - loss: 0.1216 - acc: 0.9589 - val_loss: 2.0069 - val_acc: 0.6317\n",
      "Epoch 29/30\n",
      "4037/4037 [==============================] - 2s 563us/step - loss: 0.1162 - acc: 0.9626 - val_loss: 2.1256 - val_acc: 0.6272\n",
      "Epoch 30/30\n",
      "4037/4037 [==============================] - 2s 564us/step - loss: 0.1266 - acc: 0.9611 - val_loss: 2.2894 - val_acc: 0.6228\n"
     ]
    }
   ],
   "source": [
    "model.compile(loss = 'categorical_crossentropy', optimizer = \"adam\", metrics=['accuracy'])\n",
    "#model.compile(loss='mean_squared_error', optimizer = RMSprop())\n",
    "\n",
    "hist = model.fit(train_x, train_y, validation_data=(test_x, test_y), batch_size=100, verbose=1, epochs=maxepoches)"
   ]
  },
  {
   "cell_type": "code",
   "execution_count": 6,
   "metadata": {},
   "outputs": [
    {
     "name": "stdout",
     "output_type": "stream",
     "text": [
      "448/448 [==============================] - 0s 344us/step\n",
      "Training Accuracy: 96.11%\n",
      "Testing Accuracy: 62.28%\n"
     ]
    }
   ],
   "source": [
    "score = model.evaluate(test_x, test_y)\n",
    "print(\"Training Accuracy: %.2f%%\" % (hist.history['acc'][maxepoches - 1]*100))\n",
    "print(\"Testing Accuracy: %.2f%%\" % (score[1]*100))"
   ]
  },
  {
   "cell_type": "code",
   "execution_count": 7,
   "metadata": {},
   "outputs": [
    {
     "name": "stdout",
     "output_type": "stream",
     "text": [
      "Saved model to disk\n"
     ]
    },
    {
     "data": {
      "image/png": "[encoded data removed]",
      "text/plain": [
       "<Figure size 432x288 with 1 Axes>"
      ]
     },
     "metadata": {},
     "output_type": "display_data"
    },
    {
     "data": {
      "image/png": "[encoded data removed]",
      "text/plain": [
       "<Figure size 432x288 with 1 Axes>"
      ]
     },
     "metadata": {},
     "output_type": "display_data"
    }
   ],
   "source": [
    "plt.plot(hist.history['loss'])\n",
    "plt.plot(hist.history['val_loss'])\n",
    "plt.legend(['train','test'])\n",
    "plt.title('loss')\n",
    "plt.savefig(\"loss7.png\",dpi=300,format=\"png\")\n",
    "plt.figure()\n",
    "plt.plot(hist.history['acc'])\n",
    "plt.plot(hist.history['val_acc'])\n",
    "plt.legend(['train','test'])\n",
    "plt.title('accuracy')\n",
    "plt.savefig(\"accuracy7.png\",dpi=300,format=\"png\")\n",
    "model_json = model.to_json()\n",
    "with open(\"model7.json\", \"w\") as json_file:\n",
    "    json_file.write(model_json)\n",
    "# serialize weights to HDF5\n",
    "model.save_weights(\"model7.h5\")\n",
    "print(\"Saved model to disk\")"
   ]
  }
 ],
 "metadata": {
  "kernelspec": {
   "display_name": "Python 3",
   "language": "python",
   "name": "python3"
  },
  "language_info": {
   "codemirror_mode": {
    "name": "ipython",
    "version": 3
   },
   "file_extension": ".py",
   "mimetype": "text/x-python",
   "name": "python",
   "nbconvert_exporter": "python",
   "pygments_lexer": "ipython3",
   "version": "3.6.4"
  }
 },
 "nbformat": 4,
 "nbformat_minor": 1
}
